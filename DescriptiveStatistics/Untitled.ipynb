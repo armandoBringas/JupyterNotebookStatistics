{
 "cells": [
  {
   "cell_type": "markdown",
   "id": "40f3ad73",
   "metadata": {},
   "source": [
    "# Descriptive Statistics"
   ]
  },
  {
   "cell_type": "markdown",
   "id": "cdf7e275",
   "metadata": {},
   "source": [
    "## Estimates of Locations"
   ]
  },
  {
   "cell_type": "markdown",
   "id": "858f51d4",
   "metadata": {},
   "source": [
    "### Mean\n",
    "\n",
    "$$\\bar{x}=\\frac{\\displaystyle\\sum\\limits_{i=1}^n x_{i}}{n}$$"
   ]
  },
  {
   "cell_type": "markdown",
   "id": "67fe64d8",
   "metadata": {},
   "source": []
  },
  {
   "cell_type": "markdown",
   "id": "8cefe992",
   "metadata": {},
   "source": [
    "### Trimmed Mean \n",
    "\n",
    "$$\\bar{x}=\\frac{\\sum_{i=p+1}^{n-p}x_{(i)}}{n-2p}$$"
   ]
  },
  {
   "cell_type": "code",
   "execution_count": null,
   "id": "9b36468d",
   "metadata": {},
   "outputs": [],
   "source": []
  },
  {
   "cell_type": "code",
   "execution_count": null,
   "id": "1f5965f9",
   "metadata": {},
   "outputs": [],
   "source": []
  },
  {
   "cell_type": "code",
   "execution_count": null,
   "id": "3aa911df",
   "metadata": {},
   "outputs": [],
   "source": []
  },
  {
   "cell_type": "code",
   "execution_count": null,
   "id": "ff90c3a3",
   "metadata": {},
   "outputs": [],
   "source": []
  }
 ],
 "metadata": {
  "kernelspec": {
   "display_name": "Python 3",
   "language": "python",
   "name": "python3"
  },
  "language_info": {
   "codemirror_mode": {
    "name": "ipython",
    "version": 3
   },
   "file_extension": ".py",
   "mimetype": "text/x-python",
   "name": "python",
   "nbconvert_exporter": "python",
   "pygments_lexer": "ipython3",
   "version": "3.8.8"
  }
 },
 "nbformat": 4,
 "nbformat_minor": 5
}
