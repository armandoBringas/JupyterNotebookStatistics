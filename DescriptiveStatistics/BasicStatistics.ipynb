{
 "cells": [
  {
   "cell_type": "markdown",
   "id": "d237b40b",
   "metadata": {},
   "source": [
    "# Descriptive Statistics"
   ]
  },
  {
   "cell_type": "code",
   "execution_count": 1,
   "id": "b2d75db7",
   "metadata": {},
   "outputs": [],
   "source": [
    "import pandas as pd\n",
    "import numpy as np\n",
    "from scipy import stats"
   ]
  },
  {
   "cell_type": "markdown",
   "id": "a76638d9",
   "metadata": {},
   "source": [
    "## Data Types\n",
    "\n",
    "### Numeric\n",
    "\n",
    "* **Continuous**\n",
    "* **Discrete**\n",
    "\n",
    "### Categorical\n",
    "* **Nominal**\n",
    "* **Ordinal**"
   ]
  },
  {
   "cell_type": "markdown",
   "id": "7fd7a486",
   "metadata": {},
   "source": [
    "## Rectangular Data"
   ]
  },
  {
   "cell_type": "markdown",
   "id": "36bf0059",
   "metadata": {},
   "source": [
    "### Data frame"
   ]
  },
  {
   "cell_type": "code",
   "execution_count": 2,
   "id": "fd8b7068",
   "metadata": {},
   "outputs": [
    {
     "data": {
      "text/html": [
       "<div>\n",
       "<style scoped>\n",
       "    .dataframe tbody tr th:only-of-type {\n",
       "        vertical-align: middle;\n",
       "    }\n",
       "\n",
       "    .dataframe tbody tr th {\n",
       "        vertical-align: top;\n",
       "    }\n",
       "\n",
       "    .dataframe thead th {\n",
       "        text-align: right;\n",
       "    }\n",
       "</style>\n",
       "<table border=\"1\" class=\"dataframe\">\n",
       "  <thead>\n",
       "    <tr style=\"text-align: right;\">\n",
       "      <th></th>\n",
       "      <th>Month</th>\n",
       "      <th>Average</th>\n",
       "      <th>2005</th>\n",
       "      <th>2006</th>\n",
       "      <th>2007</th>\n",
       "      <th>2008</th>\n",
       "      <th>2009</th>\n",
       "      <th>2010</th>\n",
       "      <th>2011</th>\n",
       "      <th>2012</th>\n",
       "      <th>2013</th>\n",
       "      <th>2014</th>\n",
       "      <th>2015</th>\n",
       "    </tr>\n",
       "  </thead>\n",
       "  <tbody>\n",
       "    <tr>\n",
       "      <th>0</th>\n",
       "      <td>May</td>\n",
       "      <td>0.1</td>\n",
       "      <td>0</td>\n",
       "      <td>0</td>\n",
       "      <td>1</td>\n",
       "      <td>1</td>\n",
       "      <td>0</td>\n",
       "      <td>0</td>\n",
       "      <td>0</td>\n",
       "      <td>2</td>\n",
       "      <td>0</td>\n",
       "      <td>0</td>\n",
       "      <td>0</td>\n",
       "    </tr>\n",
       "    <tr>\n",
       "      <th>1</th>\n",
       "      <td>Jun</td>\n",
       "      <td>0.5</td>\n",
       "      <td>2</td>\n",
       "      <td>1</td>\n",
       "      <td>1</td>\n",
       "      <td>0</td>\n",
       "      <td>0</td>\n",
       "      <td>1</td>\n",
       "      <td>1</td>\n",
       "      <td>2</td>\n",
       "      <td>2</td>\n",
       "      <td>0</td>\n",
       "      <td>1</td>\n",
       "    </tr>\n",
       "    <tr>\n",
       "      <th>2</th>\n",
       "      <td>Jul</td>\n",
       "      <td>0.7</td>\n",
       "      <td>5</td>\n",
       "      <td>1</td>\n",
       "      <td>1</td>\n",
       "      <td>2</td>\n",
       "      <td>0</td>\n",
       "      <td>1</td>\n",
       "      <td>3</td>\n",
       "      <td>0</td>\n",
       "      <td>2</td>\n",
       "      <td>2</td>\n",
       "      <td>1</td>\n",
       "    </tr>\n",
       "    <tr>\n",
       "      <th>3</th>\n",
       "      <td>Aug</td>\n",
       "      <td>2.3</td>\n",
       "      <td>6</td>\n",
       "      <td>3</td>\n",
       "      <td>2</td>\n",
       "      <td>4</td>\n",
       "      <td>4</td>\n",
       "      <td>4</td>\n",
       "      <td>7</td>\n",
       "      <td>8</td>\n",
       "      <td>2</td>\n",
       "      <td>2</td>\n",
       "      <td>3</td>\n",
       "    </tr>\n",
       "    <tr>\n",
       "      <th>4</th>\n",
       "      <td>Sep</td>\n",
       "      <td>3.5</td>\n",
       "      <td>6</td>\n",
       "      <td>4</td>\n",
       "      <td>7</td>\n",
       "      <td>4</td>\n",
       "      <td>2</td>\n",
       "      <td>8</td>\n",
       "      <td>5</td>\n",
       "      <td>2</td>\n",
       "      <td>5</td>\n",
       "      <td>2</td>\n",
       "      <td>5</td>\n",
       "    </tr>\n",
       "    <tr>\n",
       "      <th>5</th>\n",
       "      <td>Oct</td>\n",
       "      <td>2.0</td>\n",
       "      <td>8</td>\n",
       "      <td>0</td>\n",
       "      <td>1</td>\n",
       "      <td>3</td>\n",
       "      <td>2</td>\n",
       "      <td>5</td>\n",
       "      <td>1</td>\n",
       "      <td>5</td>\n",
       "      <td>2</td>\n",
       "      <td>3</td>\n",
       "      <td>0</td>\n",
       "    </tr>\n",
       "    <tr>\n",
       "      <th>6</th>\n",
       "      <td>Nov</td>\n",
       "      <td>0.5</td>\n",
       "      <td>3</td>\n",
       "      <td>0</td>\n",
       "      <td>0</td>\n",
       "      <td>1</td>\n",
       "      <td>1</td>\n",
       "      <td>0</td>\n",
       "      <td>1</td>\n",
       "      <td>0</td>\n",
       "      <td>1</td>\n",
       "      <td>0</td>\n",
       "      <td>1</td>\n",
       "    </tr>\n",
       "    <tr>\n",
       "      <th>7</th>\n",
       "      <td>Dec</td>\n",
       "      <td>0.0</td>\n",
       "      <td>1</td>\n",
       "      <td>0</td>\n",
       "      <td>1</td>\n",
       "      <td>0</td>\n",
       "      <td>0</td>\n",
       "      <td>0</td>\n",
       "      <td>0</td>\n",
       "      <td>0</td>\n",
       "      <td>0</td>\n",
       "      <td>0</td>\n",
       "      <td>1</td>\n",
       "    </tr>\n",
       "  </tbody>\n",
       "</table>\n",
       "</div>"
      ],
      "text/plain": [
       "  Month  Average  2005  2006  2007  2008  2009  2010  2011  2012  2013  2014  \\\n",
       "0   May      0.1     0     0     1     1     0     0     0     2     0     0   \n",
       "1   Jun      0.5     2     1     1     0     0     1     1     2     2     0   \n",
       "2   Jul      0.7     5     1     1     2     0     1     3     0     2     2   \n",
       "3   Aug      2.3     6     3     2     4     4     4     7     8     2     2   \n",
       "4   Sep      3.5     6     4     7     4     2     8     5     2     5     2   \n",
       "5   Oct      2.0     8     0     1     3     2     5     1     5     2     3   \n",
       "6   Nov      0.5     3     0     0     1     1     0     1     0     1     0   \n",
       "7   Dec      0.0     1     0     1     0     0     0     0     0     0     0   \n",
       "\n",
       "   2015  \n",
       "0     0  \n",
       "1     1  \n",
       "2     1  \n",
       "3     3  \n",
       "4     5  \n",
       "5     0  \n",
       "6     1  \n",
       "7     1  "
      ]
     },
     "metadata": {},
     "output_type": "display_data"
    }
   ],
   "source": [
    "# Load .csv from a web page\n",
    "url = \"https://people.sc.fsu.edu/~jburkardt/data/csv/hurricanes.csv\"\n",
    "df = pd.read_csv(url)\n",
    "\n",
    "# Remove additional quotes \"\" from header descriptions\n",
    "df.columns = [x.strip().replace('\"', \"\") for x in list(df)]\n",
    "\n",
    "display(df)"
   ]
  },
  {
   "cell_type": "markdown",
   "id": "e6777337",
   "metadata": {},
   "source": [
    "## Estimates of Locations"
   ]
  },
  {
   "cell_type": "markdown",
   "id": "907f07cb",
   "metadata": {},
   "source": [
    "### Mean\n",
    "\n",
    "$$\\bar{x}=\\frac{\\displaystyle\\sum\\limits_{i=1}^n x_{i}}{n}$$"
   ]
  },
  {
   "cell_type": "code",
   "execution_count": 14,
   "id": "c1b71b12",
   "metadata": {},
   "outputs": [
    {
     "name": "stdout",
     "output_type": "stream",
     "text": [
      "Arithmetic Mean\n",
      "Average : \t 1.2000\n",
      "2005 : \t 3.8750\n",
      "2006 : \t 1.1250\n",
      "2007 : \t 1.7500\n",
      "2008 : \t 1.8750\n",
      "2009 : \t 1.1250\n",
      "2010 : \t 2.3750\n",
      "2011 : \t 2.2500\n",
      "2012 : \t 2.3750\n",
      "2013 : \t 1.7500\n",
      "2014 : \t 1.1250\n",
      "2015 : \t 1.5000\n"
     ]
    }
   ],
   "source": [
    "print('Arithmetic Mean')\n",
    "for col in list(df):\n",
    "    print(col,': \\t', f'{np.mean(df[col]):.4f}')\n",
    "                                 "
   ]
  },
  {
   "cell_type": "markdown",
   "id": "8c0dfa8c",
   "metadata": {},
   "source": [
    "### Trimmed Mean \n",
    "\n",
    "$$\\bar{x}=\\frac{\\sum_{i=p+1}^{n-p}x_{(i)}}{n-2p}$$"
   ]
  },
  {
   "cell_type": "code",
   "execution_count": null,
   "id": "da35d79f",
   "metadata": {},
   "outputs": [],
   "source": [
    "print('Trimmed Mean 10%')\n",
    "for col in list(df):\n",
    "    print(col,': \\t', f'{stats.trim_mean(df[col], .1):.4f}')"
   ]
  },
  {
   "cell_type": "markdown",
   "id": "9ea36d8c",
   "metadata": {},
   "source": [
    "### Weighted Mean"
   ]
  },
  {
   "cell_type": "code",
   "execution_count": null,
   "id": "154bb4b0",
   "metadata": {},
   "outputs": [],
   "source": []
  },
  {
   "cell_type": "markdown",
   "id": "eb801275",
   "metadata": {},
   "source": [
    "### Median and Mode"
   ]
  },
  {
   "cell_type": "code",
   "execution_count": null,
   "id": "cf8da914",
   "metadata": {},
   "outputs": [],
   "source": [
    "# Median Example\n",
    "\n",
    "print('Median')\n",
    "for col in list(df):\n",
    "    print(col,': \\t', f'{np.median(df[col]):.4f}')\n",
    "                                 "
   ]
  },
  {
   "cell_type": "code",
   "execution_count": null,
   "id": "e2055485",
   "metadata": {},
   "outputs": [],
   "source": [
    "# Mode Example\n",
    "\n",
    "list_int = [3, 2, 7, 8, 3, 3]\n",
    "print('data =', list_int)\n",
    "print(stats.mode(list_int))"
   ]
  },
  {
   "cell_type": "code",
   "execution_count": null,
   "id": "6e7581d8",
   "metadata": {},
   "outputs": [],
   "source": []
  },
  {
   "cell_type": "code",
   "execution_count": null,
   "id": "6fbe1cb0",
   "metadata": {},
   "outputs": [],
   "source": []
  },
  {
   "cell_type": "code",
   "execution_count": null,
   "id": "eeabec4e",
   "metadata": {},
   "outputs": [],
   "source": []
  },
  {
   "cell_type": "code",
   "execution_count": null,
   "id": "21cffef9",
   "metadata": {},
   "outputs": [],
   "source": []
  },
  {
   "cell_type": "code",
   "execution_count": null,
   "id": "673570da",
   "metadata": {},
   "outputs": [],
   "source": []
  }
 ],
 "metadata": {
  "kernelspec": {
   "display_name": "Python 3",
   "language": "python",
   "name": "python3"
  },
  "language_info": {
   "codemirror_mode": {
    "name": "ipython",
    "version": 3
   },
   "file_extension": ".py",
   "mimetype": "text/x-python",
   "name": "python",
   "nbconvert_exporter": "python",
   "pygments_lexer": "ipython3",
   "version": "3.8.8"
  }
 },
 "nbformat": 4,
 "nbformat_minor": 5
}
